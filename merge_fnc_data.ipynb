{
 "cells": [
  {
   "cell_type": "code",
   "execution_count": 1,
   "metadata": {
    "collapsed": true
   },
   "outputs": [],
   "source": [
    "import pandas as pd"
   ]
  },
  {
   "cell_type": "markdown",
   "metadata": {},
   "source": [
    "# Merge Headline and Body text - Fake news challenge"
   ]
  },
  {
   "cell_type": "code",
   "execution_count": 15,
   "metadata": {},
   "outputs": [],
   "source": [
    "# for Fake news challenge data\n",
    "df_challenge_train = pd.read_csv('data/train_stances.csv')"
   ]
  },
  {
   "cell_type": "code",
   "execution_count": 16,
   "metadata": {},
   "outputs": [
    {
     "data": {
      "text/html": [
       "<div>\n",
       "<style scoped>\n",
       "    .dataframe tbody tr th:only-of-type {\n",
       "        vertical-align: middle;\n",
       "    }\n",
       "\n",
       "    .dataframe tbody tr th {\n",
       "        vertical-align: top;\n",
       "    }\n",
       "\n",
       "    .dataframe thead th {\n",
       "        text-align: right;\n",
       "    }\n",
       "</style>\n",
       "<table border=\"1\" class=\"dataframe\">\n",
       "  <thead>\n",
       "    <tr style=\"text-align: right;\">\n",
       "      <th></th>\n",
       "      <th>Headline</th>\n",
       "      <th>Body ID</th>\n",
       "      <th>Stance</th>\n",
       "    </tr>\n",
       "  </thead>\n",
       "  <tbody>\n",
       "    <tr>\n",
       "      <th>0</th>\n",
       "      <td>Police find mass graves with at least '15 bodi...</td>\n",
       "      <td>712</td>\n",
       "      <td>unrelated</td>\n",
       "    </tr>\n",
       "    <tr>\n",
       "      <th>1</th>\n",
       "      <td>Hundreds of Palestinians flee floods in Gaza a...</td>\n",
       "      <td>158</td>\n",
       "      <td>agree</td>\n",
       "    </tr>\n",
       "    <tr>\n",
       "      <th>2</th>\n",
       "      <td>Christian Bale passes on role of Steve Jobs, a...</td>\n",
       "      <td>137</td>\n",
       "      <td>unrelated</td>\n",
       "    </tr>\n",
       "    <tr>\n",
       "      <th>3</th>\n",
       "      <td>HBO and Apple in Talks for $15/Month Apple TV ...</td>\n",
       "      <td>1034</td>\n",
       "      <td>unrelated</td>\n",
       "    </tr>\n",
       "    <tr>\n",
       "      <th>4</th>\n",
       "      <td>Spider burrowed through tourist's stomach and ...</td>\n",
       "      <td>1923</td>\n",
       "      <td>disagree</td>\n",
       "    </tr>\n",
       "  </tbody>\n",
       "</table>\n",
       "</div>"
      ],
      "text/plain": [
       "                                            Headline  Body ID     Stance\n",
       "0  Police find mass graves with at least '15 bodi...      712  unrelated\n",
       "1  Hundreds of Palestinians flee floods in Gaza a...      158      agree\n",
       "2  Christian Bale passes on role of Steve Jobs, a...      137  unrelated\n",
       "3  HBO and Apple in Talks for $15/Month Apple TV ...     1034  unrelated\n",
       "4  Spider burrowed through tourist's stomach and ...     1923   disagree"
      ]
     },
     "execution_count": 16,
     "metadata": {},
     "output_type": "execute_result"
    }
   ],
   "source": [
    "df_challenge_train.head()"
   ]
  },
  {
   "cell_type": "code",
   "execution_count": 17,
   "metadata": {},
   "outputs": [
    {
     "data": {
      "text/plain": [
       "1921    187\n",
       "1948    175\n",
       "40      172\n",
       "524     171\n",
       "1549    166\n",
       "304     154\n",
       "1385    151\n",
       "125     145\n",
       "2367    143\n",
       "220     141\n",
       "1438    141\n",
       "195     140\n",
       "2296    136\n",
       "35      131\n",
       "1786    131\n",
       "1883    131\n",
       "2520    127\n",
       "1034    127\n",
       "2252    126\n",
       "1574    125\n",
       "2307    125\n",
       "527     125\n",
       "2175    124\n",
       "1627    123\n",
       "2404    123\n",
       "1289    122\n",
       "2115    121\n",
       "2096    120\n",
       "1040    118\n",
       "1893    117\n",
       "       ... \n",
       "907       1\n",
       "370       1\n",
       "210       1\n",
       "146       1\n",
       "114       1\n",
       "1542      1\n",
       "63        1\n",
       "76        1\n",
       "390       1\n",
       "515       1\n",
       "193       1\n",
       "464       1\n",
       "355       1\n",
       "323       1\n",
       "624       1\n",
       "282       1\n",
       "18        1\n",
       "797       1\n",
       "701       1\n",
       "362       1\n",
       "2311      1\n",
       "6         1\n",
       "915       1\n",
       "70        1\n",
       "151       1\n",
       "376       1\n",
       "140       1\n",
       "307       1\n",
       "1066      1\n",
       "59        1\n",
       "Name: Body ID, Length: 1683, dtype: int64"
      ]
     },
     "execution_count": 17,
     "metadata": {},
     "output_type": "execute_result"
    }
   ],
   "source": [
    "df_challenge_train['Body ID'].value_counts()"
   ]
  },
  {
   "cell_type": "code",
   "execution_count": 19,
   "metadata": {},
   "outputs": [],
   "source": [
    "df_challenge_train_bodies = pd.read_csv('data/train_bodies.csv', encoding='unicode_escape')"
   ]
  },
  {
   "cell_type": "code",
   "execution_count": 20,
   "metadata": {},
   "outputs": [
    {
     "data": {
      "text/html": [
       "<div>\n",
       "<style scoped>\n",
       "    .dataframe tbody tr th:only-of-type {\n",
       "        vertical-align: middle;\n",
       "    }\n",
       "\n",
       "    .dataframe tbody tr th {\n",
       "        vertical-align: top;\n",
       "    }\n",
       "\n",
       "    .dataframe thead th {\n",
       "        text-align: right;\n",
       "    }\n",
       "</style>\n",
       "<table border=\"1\" class=\"dataframe\">\n",
       "  <thead>\n",
       "    <tr style=\"text-align: right;\">\n",
       "      <th></th>\n",
       "      <th>Body ID</th>\n",
       "      <th>articleBody</th>\n",
       "    </tr>\n",
       "  </thead>\n",
       "  <tbody>\n",
       "    <tr>\n",
       "      <th>0</th>\n",
       "      <td>0</td>\n",
       "      <td>A small meteorite crashed into a wooded area i...</td>\n",
       "    </tr>\n",
       "    <tr>\n",
       "      <th>1</th>\n",
       "      <td>4</td>\n",
       "      <td>Last week we hinted at what was to come as Ebo...</td>\n",
       "    </tr>\n",
       "    <tr>\n",
       "      <th>2</th>\n",
       "      <td>5</td>\n",
       "      <td>(NEWSER)  Wonder how long a Quarter Pounder w...</td>\n",
       "    </tr>\n",
       "    <tr>\n",
       "      <th>3</th>\n",
       "      <td>6</td>\n",
       "      <td>Posting photos of a gun-toting child online, I...</td>\n",
       "    </tr>\n",
       "    <tr>\n",
       "      <th>4</th>\n",
       "      <td>7</td>\n",
       "      <td>At least 25 suspected Boko Haram insurgents we...</td>\n",
       "    </tr>\n",
       "  </tbody>\n",
       "</table>\n",
       "</div>"
      ],
      "text/plain": [
       "   Body ID                                        articleBody\n",
       "0        0  A small meteorite crashed into a wooded area i...\n",
       "1        4  Last week we hinted at what was to come as Ebo...\n",
       "2        5  (NEWSER)  Wonder how long a Quarter Pounder w...\n",
       "3        6  Posting photos of a gun-toting child online, I...\n",
       "4        7  At least 25 suspected Boko Haram insurgents we..."
      ]
     },
     "execution_count": 20,
     "metadata": {},
     "output_type": "execute_result"
    }
   ],
   "source": [
    "df_challenge_train_bodies.head()"
   ]
  },
  {
   "cell_type": "code",
   "execution_count": 21,
   "metadata": {},
   "outputs": [
    {
     "data": {
      "text/plain": [
       "2047    1\n",
       "1256    1\n",
       "1174    1\n",
       "1176    1\n",
       "1178    1\n",
       "1180    1\n",
       "1182    1\n",
       "1184    1\n",
       "1190    1\n",
       "1192    1\n",
       "1196    1\n",
       "1198    1\n",
       "1202    1\n",
       "1206    1\n",
       "1208    1\n",
       "1210    1\n",
       "1212    1\n",
       "1214    1\n",
       "1222    1\n",
       "1224    1\n",
       "1226    1\n",
       "1234    1\n",
       "1240    1\n",
       "1242    1\n",
       "1252    1\n",
       "1170    1\n",
       "1168    1\n",
       "1166    1\n",
       "1122    1\n",
       "1074    1\n",
       "       ..\n",
       "499     1\n",
       "503     1\n",
       "505     1\n",
       "459     1\n",
       "2504    1\n",
       "417     1\n",
       "431     1\n",
       "419     1\n",
       "2468    1\n",
       "2470    1\n",
       "423     1\n",
       "2472    1\n",
       "425     1\n",
       "2474    1\n",
       "427     1\n",
       "2476    1\n",
       "2478    1\n",
       "2480    1\n",
       "455     1\n",
       "433     1\n",
       "2490    1\n",
       "443     1\n",
       "2492    1\n",
       "445     1\n",
       "447     1\n",
       "2496    1\n",
       "2498    1\n",
       "451     1\n",
       "2502    1\n",
       "0       1\n",
       "Name: Body ID, Length: 1683, dtype: int64"
      ]
     },
     "execution_count": 21,
     "metadata": {},
     "output_type": "execute_result"
    }
   ],
   "source": [
    "df_challenge_train_bodies['Body ID'].value_counts()"
   ]
  },
  {
   "cell_type": "code",
   "execution_count": 22,
   "metadata": {
    "collapsed": true
   },
   "outputs": [],
   "source": [
    "# merge\n",
    "df_challenge_train = df_challenge_train.merge(df_challenge_train_bodies, left_on='Body ID', right_on='Body ID', how='inner')"
   ]
  },
  {
   "cell_type": "code",
   "execution_count": 23,
   "metadata": {},
   "outputs": [
    {
     "data": {
      "text/html": [
       "<div>\n",
       "<style scoped>\n",
       "    .dataframe tbody tr th:only-of-type {\n",
       "        vertical-align: middle;\n",
       "    }\n",
       "\n",
       "    .dataframe tbody tr th {\n",
       "        vertical-align: top;\n",
       "    }\n",
       "\n",
       "    .dataframe thead th {\n",
       "        text-align: right;\n",
       "    }\n",
       "</style>\n",
       "<table border=\"1\" class=\"dataframe\">\n",
       "  <thead>\n",
       "    <tr style=\"text-align: right;\">\n",
       "      <th></th>\n",
       "      <th>Headline</th>\n",
       "      <th>Body ID</th>\n",
       "      <th>Stance</th>\n",
       "      <th>articleBody</th>\n",
       "    </tr>\n",
       "  </thead>\n",
       "  <tbody>\n",
       "    <tr>\n",
       "      <th>18385</th>\n",
       "      <td>Insurgents killed in Nigeria despite alleged t...</td>\n",
       "      <td>1697</td>\n",
       "      <td>unrelated</td>\n",
       "      <td>Jose Canseco was injured in an accidental shoo...</td>\n",
       "    </tr>\n",
       "    <tr>\n",
       "      <th>1717</th>\n",
       "      <td>Another American hostage at risk by Islamic state</td>\n",
       "      <td>1040</td>\n",
       "      <td>unrelated</td>\n",
       "      <td>(Mashable) Reports that Islamic State militant...</td>\n",
       "    </tr>\n",
       "    <tr>\n",
       "      <th>12746</th>\n",
       "      <td>ISIL video claims beheading of kidnapped journ...</td>\n",
       "      <td>511</td>\n",
       "      <td>unrelated</td>\n",
       "      <td>The leaked video of Georgy Myakinkin's protest...</td>\n",
       "    </tr>\n",
       "    <tr>\n",
       "      <th>36611</th>\n",
       "      <td>Gill Rosenberg, Canadian-Israeli Woman Feared ...</td>\n",
       "      <td>1976</td>\n",
       "      <td>agree</td>\n",
       "      <td>Sources in the Kurdish underground in Syria de...</td>\n",
       "    </tr>\n",
       "    <tr>\n",
       "      <th>28932</th>\n",
       "      <td>James Wright Foley, Kidnapped Journalist, Appa...</td>\n",
       "      <td>1016</td>\n",
       "      <td>discuss</td>\n",
       "      <td>Islamic State, in video titled \"A Message to A...</td>\n",
       "    </tr>\n",
       "    <tr>\n",
       "      <th>25455</th>\n",
       "      <td>Apple Watch reportedly has low-energy 'power r...</td>\n",
       "      <td>78</td>\n",
       "      <td>unrelated</td>\n",
       "      <td>This rumour is ridiculous, but it's pretty amu...</td>\n",
       "    </tr>\n",
       "    <tr>\n",
       "      <th>16323</th>\n",
       "      <td>Biological Warfare on the Horizon? ISIS Soldie...</td>\n",
       "      <td>2367</td>\n",
       "      <td>unrelated</td>\n",
       "      <td>Judicial Watch has reported that ISIS members ...</td>\n",
       "    </tr>\n",
       "    <tr>\n",
       "      <th>49835</th>\n",
       "      <td>Comcast Declares War on Tor?</td>\n",
       "      <td>2178</td>\n",
       "      <td>discuss</td>\n",
       "      <td>Comcast has lately found itself issuing public...</td>\n",
       "    </tr>\n",
       "    <tr>\n",
       "      <th>44905</th>\n",
       "      <td>What they earn: Vice CEO Shane Smith’s $300,00...</td>\n",
       "      <td>1176</td>\n",
       "      <td>unrelated</td>\n",
       "      <td>NAIROBI: The death of the leader of Somalia's ...</td>\n",
       "    </tr>\n",
       "    <tr>\n",
       "      <th>25246</th>\n",
       "      <td>ISIS KILLS 300 IRAQI SOLDIERS WITH CHLORINE GA...</td>\n",
       "      <td>251</td>\n",
       "      <td>unrelated</td>\n",
       "      <td>Apple is hosting its Spring Forward event to...</td>\n",
       "    </tr>\n",
       "  </tbody>\n",
       "</table>\n",
       "</div>"
      ],
      "text/plain": [
       "                                                Headline  Body ID     Stance  \\\n",
       "18385  Insurgents killed in Nigeria despite alleged t...     1697  unrelated   \n",
       "1717   Another American hostage at risk by Islamic state     1040  unrelated   \n",
       "12746  ISIL video claims beheading of kidnapped journ...      511  unrelated   \n",
       "36611  Gill Rosenberg, Canadian-Israeli Woman Feared ...     1976      agree   \n",
       "28932  James Wright Foley, Kidnapped Journalist, Appa...     1016    discuss   \n",
       "25455  Apple Watch reportedly has low-energy 'power r...       78  unrelated   \n",
       "16323  Biological Warfare on the Horizon? ISIS Soldie...     2367  unrelated   \n",
       "49835                       Comcast Declares War on Tor?     2178    discuss   \n",
       "44905  What they earn: Vice CEO Shane Smith’s $300,00...     1176  unrelated   \n",
       "25246  ISIS KILLS 300 IRAQI SOLDIERS WITH CHLORINE GA...      251  unrelated   \n",
       "\n",
       "                                             articleBody  \n",
       "18385  Jose Canseco was injured in an accidental shoo...  \n",
       "1717   (Mashable) Reports that Islamic State militant...  \n",
       "12746  The leaked video of Georgy Myakinkin's protest...  \n",
       "36611  Sources in the Kurdish underground in Syria de...  \n",
       "28932  Islamic State, in video titled \"A Message to A...  \n",
       "25455  This rumour is ridiculous, but it's pretty amu...  \n",
       "16323  Judicial Watch has reported that ISIS members ...  \n",
       "49835  Comcast has lately found itself issuing public...  \n",
       "44905  NAIROBI: The death of the leader of Somalia's ...  \n",
       "25246  Apple is hosting its Spring Forward event to...  "
      ]
     },
     "execution_count": 23,
     "metadata": {},
     "output_type": "execute_result"
    }
   ],
   "source": [
    "df_challenge_train.sample(10)"
   ]
  },
  {
   "cell_type": "code",
   "execution_count": 24,
   "metadata": {
    "collapsed": true
   },
   "outputs": [],
   "source": [
    "df_challenge_train.to_csv(\"data/merge_fnc.csv\", index=False)"
   ]
  },
  {
   "cell_type": "code",
   "execution_count": null,
   "metadata": {
    "collapsed": true
   },
   "outputs": [],
   "source": []
  }
 ],
 "metadata": {
  "kernelspec": {
   "display_name": "Python 3",
   "language": "python",
   "name": "python3"
  },
  "language_info": {
   "codemirror_mode": {
    "name": "ipython",
    "version": 3
   },
   "file_extension": ".py",
   "mimetype": "text/x-python",
   "name": "python",
   "nbconvert_exporter": "python",
   "pygments_lexer": "ipython3",
   "version": "3.6.5"
  }
 },
 "nbformat": 4,
 "nbformat_minor": 2
}
