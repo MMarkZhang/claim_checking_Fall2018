{
 "cells": [
  {
   "cell_type": "code",
   "execution_count": 1,
   "metadata": {
    "collapsed": true
   },
   "outputs": [],
   "source": [
    "import pandas as pd"
   ]
  },
  {
   "cell_type": "markdown",
   "metadata": {},
   "source": [
    "# Merge Headline and Body text - Fake news challenge"
   ]
  },
  {
   "cell_type": "code",
   "execution_count": 3,
   "metadata": {},
   "outputs": [],
   "source": [
    "# for Fake news challenge data\n",
    "df_challenge_train = pd.read_csv('data/train_stances.csv', encoding='unicode_escape')"
   ]
  },
  {
   "cell_type": "code",
   "execution_count": 4,
   "metadata": {},
   "outputs": [
    {
     "data": {
      "text/html": [
       "<div>\n",
       "<style scoped>\n",
       "    .dataframe tbody tr th:only-of-type {\n",
       "        vertical-align: middle;\n",
       "    }\n",
       "\n",
       "    .dataframe tbody tr th {\n",
       "        vertical-align: top;\n",
       "    }\n",
       "\n",
       "    .dataframe thead th {\n",
       "        text-align: right;\n",
       "    }\n",
       "</style>\n",
       "<table border=\"1\" class=\"dataframe\">\n",
       "  <thead>\n",
       "    <tr style=\"text-align: right;\">\n",
       "      <th></th>\n",
       "      <th>Headline</th>\n",
       "      <th>Body ID</th>\n",
       "      <th>Stance</th>\n",
       "    </tr>\n",
       "  </thead>\n",
       "  <tbody>\n",
       "    <tr>\n",
       "      <th>0</th>\n",
       "      <td>Police find mass graves with at least '15 bodi...</td>\n",
       "      <td>712</td>\n",
       "      <td>unrelated</td>\n",
       "    </tr>\n",
       "    <tr>\n",
       "      <th>1</th>\n",
       "      <td>Hundreds of Palestinians flee floods in Gaza a...</td>\n",
       "      <td>158</td>\n",
       "      <td>agree</td>\n",
       "    </tr>\n",
       "    <tr>\n",
       "      <th>2</th>\n",
       "      <td>Christian Bale passes on role of Steve Jobs, a...</td>\n",
       "      <td>137</td>\n",
       "      <td>unrelated</td>\n",
       "    </tr>\n",
       "    <tr>\n",
       "      <th>3</th>\n",
       "      <td>HBO and Apple in Talks for $15/Month Apple TV ...</td>\n",
       "      <td>1034</td>\n",
       "      <td>unrelated</td>\n",
       "    </tr>\n",
       "    <tr>\n",
       "      <th>4</th>\n",
       "      <td>Spider burrowed through tourist's stomach and ...</td>\n",
       "      <td>1923</td>\n",
       "      <td>disagree</td>\n",
       "    </tr>\n",
       "  </tbody>\n",
       "</table>\n",
       "</div>"
      ],
      "text/plain": [
       "                                            Headline  Body ID     Stance\n",
       "0  Police find mass graves with at least '15 bodi...      712  unrelated\n",
       "1  Hundreds of Palestinians flee floods in Gaza a...      158      agree\n",
       "2  Christian Bale passes on role of Steve Jobs, a...      137  unrelated\n",
       "3  HBO and Apple in Talks for $15/Month Apple TV ...     1034  unrelated\n",
       "4  Spider burrowed through tourist's stomach and ...     1923   disagree"
      ]
     },
     "execution_count": 4,
     "metadata": {},
     "output_type": "execute_result"
    }
   ],
   "source": [
    "df_challenge_train.head()"
   ]
  },
  {
   "cell_type": "code",
   "execution_count": 6,
   "metadata": {},
   "outputs": [
    {
     "data": {
      "text/plain": [
       "1921    187\n",
       "1948    175\n",
       "40      172\n",
       "524     171\n",
       "1549    166\n",
       "304     154\n",
       "1385    151\n",
       "125     145\n",
       "2367    143\n",
       "220     141\n",
       "1438    141\n",
       "195     140\n",
       "2296    136\n",
       "35      131\n",
       "1786    131\n",
       "1883    131\n",
       "2520    127\n",
       "1034    127\n",
       "2252    126\n",
       "1574    125\n",
       "2307    125\n",
       "527     125\n",
       "2175    124\n",
       "1627    123\n",
       "2404    123\n",
       "1289    122\n",
       "2115    121\n",
       "2096    120\n",
       "1040    118\n",
       "1893    117\n",
       "       ... \n",
       "907       1\n",
       "370       1\n",
       "210       1\n",
       "146       1\n",
       "114       1\n",
       "1542      1\n",
       "63        1\n",
       "76        1\n",
       "390       1\n",
       "515       1\n",
       "193       1\n",
       "464       1\n",
       "355       1\n",
       "323       1\n",
       "624       1\n",
       "282       1\n",
       "18        1\n",
       "797       1\n",
       "701       1\n",
       "362       1\n",
       "2311      1\n",
       "6         1\n",
       "915       1\n",
       "70        1\n",
       "151       1\n",
       "376       1\n",
       "140       1\n",
       "307       1\n",
       "1066      1\n",
       "59        1\n",
       "Name: Body ID, Length: 1683, dtype: int64"
      ]
     },
     "execution_count": 6,
     "metadata": {},
     "output_type": "execute_result"
    }
   ],
   "source": [
    "df_challenge_train['Body ID'].value_counts()"
   ]
  },
  {
   "cell_type": "code",
   "execution_count": 5,
   "metadata": {
    "collapsed": true
   },
   "outputs": [],
   "source": [
    "df_challenge_train_bodies = pd.read_csv('data/train_bodies.csv', encoding='unicode_escape')"
   ]
  },
  {
   "cell_type": "code",
   "execution_count": 7,
   "metadata": {},
   "outputs": [
    {
     "data": {
      "text/html": [
       "<div>\n",
       "<style scoped>\n",
       "    .dataframe tbody tr th:only-of-type {\n",
       "        vertical-align: middle;\n",
       "    }\n",
       "\n",
       "    .dataframe tbody tr th {\n",
       "        vertical-align: top;\n",
       "    }\n",
       "\n",
       "    .dataframe thead th {\n",
       "        text-align: right;\n",
       "    }\n",
       "</style>\n",
       "<table border=\"1\" class=\"dataframe\">\n",
       "  <thead>\n",
       "    <tr style=\"text-align: right;\">\n",
       "      <th></th>\n",
       "      <th>Body ID</th>\n",
       "      <th>articleBody</th>\n",
       "    </tr>\n",
       "  </thead>\n",
       "  <tbody>\n",
       "    <tr>\n",
       "      <th>0</th>\n",
       "      <td>0</td>\n",
       "      <td>A small meteorite crashed into a wooded area i...</td>\n",
       "    </tr>\n",
       "    <tr>\n",
       "      <th>1</th>\n",
       "      <td>4</td>\n",
       "      <td>Last week we hinted at what was to come as Ebo...</td>\n",
       "    </tr>\n",
       "    <tr>\n",
       "      <th>2</th>\n",
       "      <td>5</td>\n",
       "      <td>(NEWSER)  Wonder how long a Quarter Pounder w...</td>\n",
       "    </tr>\n",
       "    <tr>\n",
       "      <th>3</th>\n",
       "      <td>6</td>\n",
       "      <td>Posting photos of a gun-toting child online, I...</td>\n",
       "    </tr>\n",
       "    <tr>\n",
       "      <th>4</th>\n",
       "      <td>7</td>\n",
       "      <td>At least 25 suspected Boko Haram insurgents we...</td>\n",
       "    </tr>\n",
       "  </tbody>\n",
       "</table>\n",
       "</div>"
      ],
      "text/plain": [
       "   Body ID                                        articleBody\n",
       "0        0  A small meteorite crashed into a wooded area i...\n",
       "1        4  Last week we hinted at what was to come as Ebo...\n",
       "2        5  (NEWSER)  Wonder how long a Quarter Pounder w...\n",
       "3        6  Posting photos of a gun-toting child online, I...\n",
       "4        7  At least 25 suspected Boko Haram insurgents we..."
      ]
     },
     "execution_count": 7,
     "metadata": {},
     "output_type": "execute_result"
    }
   ],
   "source": [
    "df_challenge_train_bodies.head()"
   ]
  },
  {
   "cell_type": "code",
   "execution_count": 8,
   "metadata": {},
   "outputs": [
    {
     "data": {
      "text/plain": [
       "2047    1\n",
       "1256    1\n",
       "1174    1\n",
       "1176    1\n",
       "1178    1\n",
       "1180    1\n",
       "1182    1\n",
       "1184    1\n",
       "1190    1\n",
       "1192    1\n",
       "1196    1\n",
       "1198    1\n",
       "1202    1\n",
       "1206    1\n",
       "1208    1\n",
       "1210    1\n",
       "1212    1\n",
       "1214    1\n",
       "1222    1\n",
       "1224    1\n",
       "1226    1\n",
       "1234    1\n",
       "1240    1\n",
       "1242    1\n",
       "1252    1\n",
       "1170    1\n",
       "1168    1\n",
       "1166    1\n",
       "1122    1\n",
       "1074    1\n",
       "       ..\n",
       "499     1\n",
       "503     1\n",
       "505     1\n",
       "459     1\n",
       "2504    1\n",
       "417     1\n",
       "431     1\n",
       "419     1\n",
       "2468    1\n",
       "2470    1\n",
       "423     1\n",
       "2472    1\n",
       "425     1\n",
       "2474    1\n",
       "427     1\n",
       "2476    1\n",
       "2478    1\n",
       "2480    1\n",
       "455     1\n",
       "433     1\n",
       "2490    1\n",
       "443     1\n",
       "2492    1\n",
       "445     1\n",
       "447     1\n",
       "2496    1\n",
       "2498    1\n",
       "451     1\n",
       "2502    1\n",
       "0       1\n",
       "Name: Body ID, Length: 1683, dtype: int64"
      ]
     },
     "execution_count": 8,
     "metadata": {},
     "output_type": "execute_result"
    }
   ],
   "source": [
    "df_challenge_train_bodies['Body ID'].value_counts()"
   ]
  },
  {
   "cell_type": "code",
   "execution_count": 9,
   "metadata": {
    "collapsed": true
   },
   "outputs": [],
   "source": [
    "# merge\n",
    "df_challenge_train = df_challenge_train.merge(df_challenge_train_bodies, left_on='Body ID', right_on='Body ID', how='inner')"
   ]
  },
  {
   "cell_type": "code",
   "execution_count": 12,
   "metadata": {},
   "outputs": [
    {
     "data": {
      "text/html": [
       "<div>\n",
       "<style scoped>\n",
       "    .dataframe tbody tr th:only-of-type {\n",
       "        vertical-align: middle;\n",
       "    }\n",
       "\n",
       "    .dataframe tbody tr th {\n",
       "        vertical-align: top;\n",
       "    }\n",
       "\n",
       "    .dataframe thead th {\n",
       "        text-align: right;\n",
       "    }\n",
       "</style>\n",
       "<table border=\"1\" class=\"dataframe\">\n",
       "  <thead>\n",
       "    <tr style=\"text-align: right;\">\n",
       "      <th></th>\n",
       "      <th>Headline</th>\n",
       "      <th>Body ID</th>\n",
       "      <th>Stance</th>\n",
       "      <th>articleBody</th>\n",
       "    </tr>\n",
       "  </thead>\n",
       "  <tbody>\n",
       "    <tr>\n",
       "      <th>40868</th>\n",
       "      <td>Somalia Shebab chief Ahmed Abdi Godane likely ...</td>\n",
       "      <td>1835</td>\n",
       "      <td>discuss</td>\n",
       "      <td>(Reuters) - The Pentagon is assessing whether ...</td>\n",
       "    </tr>\n",
       "    <tr>\n",
       "      <th>16046</th>\n",
       "      <td>Itâs Okay To Laugh About The Fact That The V...</td>\n",
       "      <td>964</td>\n",
       "      <td>unrelated</td>\n",
       "      <td>Doctor in besieged Syrian town reports arrival...</td>\n",
       "    </tr>\n",
       "    <tr>\n",
       "      <th>49778</th>\n",
       "      <td>âStar Wars: The Force Awakensâ May Get An ...</td>\n",
       "      <td>622</td>\n",
       "      <td>discuss</td>\n",
       "      <td>Breaking!  J.J. Abrams has reportedly approach...</td>\n",
       "    </tr>\n",
       "    <tr>\n",
       "      <th>24782</th>\n",
       "      <td>Nicaragua says meteorite probable cause of bla...</td>\n",
       "      <td>2118</td>\n",
       "      <td>unrelated</td>\n",
       "      <td>On the same day Michael Brown was buried, a Fe...</td>\n",
       "    </tr>\n",
       "    <tr>\n",
       "      <th>27160</th>\n",
       "      <td>Journalist James Wright Foley reportedly behea...</td>\n",
       "      <td>1361</td>\n",
       "      <td>unrelated</td>\n",
       "      <td>In a new video, ISIS shows American-made weapo...</td>\n",
       "    </tr>\n",
       "    <tr>\n",
       "      <th>2748</th>\n",
       "      <td>Another American hostage at risk by Islamic state</td>\n",
       "      <td>1905</td>\n",
       "      <td>unrelated</td>\n",
       "      <td>NEW YORK  Pope Francis has given hope to gays...</td>\n",
       "    </tr>\n",
       "    <tr>\n",
       "      <th>44555</th>\n",
       "      <td>Saudi Arabian cleric issues fatwa against snowmen</td>\n",
       "      <td>955</td>\n",
       "      <td>unrelated</td>\n",
       "      <td>Nigeria has reached a ceasefire deal that will...</td>\n",
       "    </tr>\n",
       "    <tr>\n",
       "      <th>43808</th>\n",
       "      <td>Identity of ISIS terrorist known as 'Jihadi Jo...</td>\n",
       "      <td>2125</td>\n",
       "      <td>unrelated</td>\n",
       "      <td>On December 17, a site called InSerbia.info pu...</td>\n",
       "    </tr>\n",
       "    <tr>\n",
       "      <th>46360</th>\n",
       "      <td>Rumors about Fidel Castroâs death again circ...</td>\n",
       "      <td>1918</td>\n",
       "      <td>discuss</td>\n",
       "      <td>MEXICO CITY  Rumors about the death of Fidel ...</td>\n",
       "    </tr>\n",
       "    <tr>\n",
       "      <th>9035</th>\n",
       "      <td>Apple Watch battery will require nightly charging</td>\n",
       "      <td>687</td>\n",
       "      <td>unrelated</td>\n",
       "      <td>Robots are increasingly replacing humans in a ...</td>\n",
       "    </tr>\n",
       "  </tbody>\n",
       "</table>\n",
       "</div>"
      ],
      "text/plain": [
       "                                                Headline  Body ID     Stance  \\\n",
       "40868  Somalia Shebab chief Ahmed Abdi Godane likely ...     1835    discuss   \n",
       "16046  Itâs Okay To Laugh About The Fact That The V...      964  unrelated   \n",
       "49778  âStar Wars: The Force Awakensâ May Get An ...      622    discuss   \n",
       "24782  Nicaragua says meteorite probable cause of bla...     2118  unrelated   \n",
       "27160  Journalist James Wright Foley reportedly behea...     1361  unrelated   \n",
       "2748   Another American hostage at risk by Islamic state     1905  unrelated   \n",
       "44555  Saudi Arabian cleric issues fatwa against snowmen      955  unrelated   \n",
       "43808  Identity of ISIS terrorist known as 'Jihadi Jo...     2125  unrelated   \n",
       "46360  Rumors about Fidel Castroâs death again circ...     1918    discuss   \n",
       "9035   Apple Watch battery will require nightly charging      687  unrelated   \n",
       "\n",
       "                                             articleBody  \n",
       "40868  (Reuters) - The Pentagon is assessing whether ...  \n",
       "16046  Doctor in besieged Syrian town reports arrival...  \n",
       "49778  Breaking!  J.J. Abrams has reportedly approach...  \n",
       "24782  On the same day Michael Brown was buried, a Fe...  \n",
       "27160  In a new video, ISIS shows American-made weapo...  \n",
       "2748   NEW YORK  Pope Francis has given hope to gays...  \n",
       "44555  Nigeria has reached a ceasefire deal that will...  \n",
       "43808  On December 17, a site called InSerbia.info pu...  \n",
       "46360  MEXICO CITY  Rumors about the death of Fidel ...  \n",
       "9035   Robots are increasingly replacing humans in a ...  "
      ]
     },
     "execution_count": 12,
     "metadata": {},
     "output_type": "execute_result"
    }
   ],
   "source": [
    "df_challenge_train.sample(10)"
   ]
  },
  {
   "cell_type": "code",
   "execution_count": 14,
   "metadata": {
    "collapsed": true
   },
   "outputs": [],
   "source": [
    "df_challenge_train.to_csv(\"data/merge_fnc.csv\", index=False)"
   ]
  },
  {
   "cell_type": "code",
   "execution_count": null,
   "metadata": {
    "collapsed": true
   },
   "outputs": [],
   "source": []
  }
 ],
 "metadata": {
  "kernelspec": {
   "display_name": "Python 3",
   "language": "python",
   "name": "python3"
  },
  "language_info": {
   "codemirror_mode": {
    "name": "ipython",
    "version": 3
   },
   "file_extension": ".py",
   "mimetype": "text/x-python",
   "name": "python",
   "nbconvert_exporter": "python",
   "pygments_lexer": "ipython3",
   "version": "3.6.5"
  }
 },
 "nbformat": 4,
 "nbformat_minor": 2
}
