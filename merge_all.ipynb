{
 "cells": [
  {
   "cell_type": "markdown",
   "metadata": {},
   "source": [
    "# Merge the data from fnc and Emergent"
   ]
  },
  {
   "cell_type": "code",
   "execution_count": 53,
   "metadata": {
    "collapsed": true
   },
   "outputs": [],
   "source": [
    "import pandas as pd"
   ]
  },
  {
   "cell_type": "code",
   "execution_count": 54,
   "metadata": {
    "collapsed": true
   },
   "outputs": [],
   "source": [
    "# for merged Fake news challenge data\n",
    "df_challenge_train = pd.read_csv('data/merge_fnc.csv')"
   ]
  },
  {
   "cell_type": "code",
   "execution_count": 55,
   "metadata": {},
   "outputs": [
    {
     "data": {
      "text/html": [
       "<div>\n",
       "<style scoped>\n",
       "    .dataframe tbody tr th:only-of-type {\n",
       "        vertical-align: middle;\n",
       "    }\n",
       "\n",
       "    .dataframe tbody tr th {\n",
       "        vertical-align: top;\n",
       "    }\n",
       "\n",
       "    .dataframe thead th {\n",
       "        text-align: right;\n",
       "    }\n",
       "</style>\n",
       "<table border=\"1\" class=\"dataframe\">\n",
       "  <thead>\n",
       "    <tr style=\"text-align: right;\">\n",
       "      <th></th>\n",
       "      <th>Headline</th>\n",
       "      <th>Body ID</th>\n",
       "      <th>Stance</th>\n",
       "      <th>articleBody</th>\n",
       "    </tr>\n",
       "  </thead>\n",
       "  <tbody>\n",
       "    <tr>\n",
       "      <th>0</th>\n",
       "      <td>Police find mass graves with at least '15 bodi...</td>\n",
       "      <td>712</td>\n",
       "      <td>unrelated</td>\n",
       "      <td>Danny Boyle is directing the untitled film\\r\\n...</td>\n",
       "    </tr>\n",
       "    <tr>\n",
       "      <th>1</th>\n",
       "      <td>Seth Rogen to Play Apple’s Steve Wozniak</td>\n",
       "      <td>712</td>\n",
       "      <td>discuss</td>\n",
       "      <td>Danny Boyle is directing the untitled film\\r\\n...</td>\n",
       "    </tr>\n",
       "    <tr>\n",
       "      <th>2</th>\n",
       "      <td>Mexico police find mass grave near site 43 stu...</td>\n",
       "      <td>712</td>\n",
       "      <td>unrelated</td>\n",
       "      <td>Danny Boyle is directing the untitled film\\r\\n...</td>\n",
       "    </tr>\n",
       "    <tr>\n",
       "      <th>3</th>\n",
       "      <td>Mexico Says Missing Students Not Found In Firs...</td>\n",
       "      <td>712</td>\n",
       "      <td>unrelated</td>\n",
       "      <td>Danny Boyle is directing the untitled film\\r\\n...</td>\n",
       "    </tr>\n",
       "    <tr>\n",
       "      <th>4</th>\n",
       "      <td>New iOS 8 bug can delete all of your iCloud do...</td>\n",
       "      <td>712</td>\n",
       "      <td>unrelated</td>\n",
       "      <td>Danny Boyle is directing the untitled film\\r\\n...</td>\n",
       "    </tr>\n",
       "  </tbody>\n",
       "</table>\n",
       "</div>"
      ],
      "text/plain": [
       "                                            Headline  Body ID     Stance  \\\n",
       "0  Police find mass graves with at least '15 bodi...      712  unrelated   \n",
       "1           Seth Rogen to Play Apple’s Steve Wozniak      712    discuss   \n",
       "2  Mexico police find mass grave near site 43 stu...      712  unrelated   \n",
       "3  Mexico Says Missing Students Not Found In Firs...      712  unrelated   \n",
       "4  New iOS 8 bug can delete all of your iCloud do...      712  unrelated   \n",
       "\n",
       "                                         articleBody  \n",
       "0  Danny Boyle is directing the untitled film\\r\\n...  \n",
       "1  Danny Boyle is directing the untitled film\\r\\n...  \n",
       "2  Danny Boyle is directing the untitled film\\r\\n...  \n",
       "3  Danny Boyle is directing the untitled film\\r\\n...  \n",
       "4  Danny Boyle is directing the untitled film\\r\\n...  "
      ]
     },
     "execution_count": 55,
     "metadata": {},
     "output_type": "execute_result"
    }
   ],
   "source": [
    "df_challenge_train.head()"
   ]
  },
  {
   "cell_type": "code",
   "execution_count": 56,
   "metadata": {
    "collapsed": true
   },
   "outputs": [],
   "source": [
    "# read Emergent data\n",
    "df_emergent = pd.read_csv('data/url-versions-2015-06-14-clean-train.csv')"
   ]
  },
  {
   "cell_type": "code",
   "execution_count": 57,
   "metadata": {},
   "outputs": [
    {
     "data": {
      "text/html": [
       "<div>\n",
       "<style scoped>\n",
       "    .dataframe tbody tr th:only-of-type {\n",
       "        vertical-align: middle;\n",
       "    }\n",
       "\n",
       "    .dataframe tbody tr th {\n",
       "        vertical-align: top;\n",
       "    }\n",
       "\n",
       "    .dataframe thead th {\n",
       "        text-align: right;\n",
       "    }\n",
       "</style>\n",
       "<table border=\"1\" class=\"dataframe\">\n",
       "  <thead>\n",
       "    <tr style=\"text-align: right;\">\n",
       "      <th></th>\n",
       "      <th>Unnamed: 0</th>\n",
       "      <th>claimHeadline</th>\n",
       "      <th>articleHeadline</th>\n",
       "      <th>articleHeadlineStance</th>\n",
       "      <th>articleId</th>\n",
       "      <th>claimId</th>\n",
       "    </tr>\n",
       "  </thead>\n",
       "  <tbody>\n",
       "    <tr>\n",
       "      <th>0</th>\n",
       "      <td>0</td>\n",
       "      <td>Apple will sell 19 million Apple Watches in 2015</td>\n",
       "      <td>BMO forecasts 19M Apple Watch sales in 2015, w...</td>\n",
       "      <td>observing</td>\n",
       "      <td>116a3920-c41c-11e4-883c-a7fa7a3c5066</td>\n",
       "      <td>8faeb4b0-c41b-11e4-88c9-eb158a06b9a5</td>\n",
       "    </tr>\n",
       "    <tr>\n",
       "      <th>1</th>\n",
       "      <td>1</td>\n",
       "      <td>Two Australian men kept a McDonald's Quarter P...</td>\n",
       "      <td>World's oldest burger</td>\n",
       "      <td>for</td>\n",
       "      <td>8bb10fd0-b6aa-11e4-8507-b58af63d1078</td>\n",
       "      <td>d54aaf40-b6a8-11e4-8507-b58af63d1078</td>\n",
       "    </tr>\n",
       "    <tr>\n",
       "      <th>2</th>\n",
       "      <td>2</td>\n",
       "      <td>Two Australian men kept a McDonald's Quarter P...</td>\n",
       "      <td>Two blokes dared to eat 20-year-old burger for...</td>\n",
       "      <td>for</td>\n",
       "      <td>00b6b660-b6a9-11e4-8507-b58af63d1078</td>\n",
       "      <td>d54aaf40-b6a8-11e4-8507-b58af63d1078</td>\n",
       "    </tr>\n",
       "    <tr>\n",
       "      <th>3</th>\n",
       "      <td>3</td>\n",
       "      <td>Two Australian men kept a McDonald's Quarter P...</td>\n",
       "      <td>Would you take a bite out of the world's oldes...</td>\n",
       "      <td>for</td>\n",
       "      <td>fc92d640-b6a8-11e4-8507-b58af63d1078</td>\n",
       "      <td>d54aaf40-b6a8-11e4-8507-b58af63d1078</td>\n",
       "    </tr>\n",
       "    <tr>\n",
       "      <th>4</th>\n",
       "      <td>4</td>\n",
       "      <td>Two Australian men kept a McDonald's Quarter P...</td>\n",
       "      <td>20 year old burger? McDonald's burger purchase...</td>\n",
       "      <td>for</td>\n",
       "      <td>08c84b70-b6a9-11e4-8507-b58af63d1078</td>\n",
       "      <td>d54aaf40-b6a8-11e4-8507-b58af63d1078</td>\n",
       "    </tr>\n",
       "  </tbody>\n",
       "</table>\n",
       "</div>"
      ],
      "text/plain": [
       "   Unnamed: 0                                      claimHeadline  \\\n",
       "0           0   Apple will sell 19 million Apple Watches in 2015   \n",
       "1           1  Two Australian men kept a McDonald's Quarter P...   \n",
       "2           2  Two Australian men kept a McDonald's Quarter P...   \n",
       "3           3  Two Australian men kept a McDonald's Quarter P...   \n",
       "4           4  Two Australian men kept a McDonald's Quarter P...   \n",
       "\n",
       "                                     articleHeadline articleHeadlineStance  \\\n",
       "0  BMO forecasts 19M Apple Watch sales in 2015, w...             observing   \n",
       "1                              World's oldest burger                   for   \n",
       "2  Two blokes dared to eat 20-year-old burger for...                   for   \n",
       "3  Would you take a bite out of the world's oldes...                   for   \n",
       "4  20 year old burger? McDonald's burger purchase...                   for   \n",
       "\n",
       "                              articleId                               claimId  \n",
       "0  116a3920-c41c-11e4-883c-a7fa7a3c5066  8faeb4b0-c41b-11e4-88c9-eb158a06b9a5  \n",
       "1  8bb10fd0-b6aa-11e4-8507-b58af63d1078  d54aaf40-b6a8-11e4-8507-b58af63d1078  \n",
       "2  00b6b660-b6a9-11e4-8507-b58af63d1078  d54aaf40-b6a8-11e4-8507-b58af63d1078  \n",
       "3  fc92d640-b6a8-11e4-8507-b58af63d1078  d54aaf40-b6a8-11e4-8507-b58af63d1078  \n",
       "4  08c84b70-b6a9-11e4-8507-b58af63d1078  d54aaf40-b6a8-11e4-8507-b58af63d1078  "
      ]
     },
     "execution_count": 57,
     "metadata": {},
     "output_type": "execute_result"
    }
   ],
   "source": [
    "df_emergent.head()"
   ]
  },
  {
   "cell_type": "code",
   "execution_count": 58,
   "metadata": {
    "collapsed": true
   },
   "outputs": [],
   "source": [
    "merged_res = df_challenge_train.merge(df_emergent, left_on='Headline', right_on='articleHeadline', how='left')"
   ]
  },
  {
   "cell_type": "code",
   "execution_count": 59,
   "metadata": {},
   "outputs": [],
   "source": [
    "merged_res = merged_res.dropna()"
   ]
  },
  {
   "cell_type": "code",
   "execution_count": 60,
   "metadata": {},
   "outputs": [
    {
     "data": {
      "text/plain": [
       "22882"
      ]
     },
     "execution_count": 60,
     "metadata": {},
     "output_type": "execute_result"
    }
   ],
   "source": [
    "len(merged_res)"
   ]
  },
  {
   "cell_type": "code",
   "execution_count": 61,
   "metadata": {},
   "outputs": [
    {
     "data": {
      "text/html": [
       "<div>\n",
       "<style scoped>\n",
       "    .dataframe tbody tr th:only-of-type {\n",
       "        vertical-align: middle;\n",
       "    }\n",
       "\n",
       "    .dataframe tbody tr th {\n",
       "        vertical-align: top;\n",
       "    }\n",
       "\n",
       "    .dataframe thead th {\n",
       "        text-align: right;\n",
       "    }\n",
       "</style>\n",
       "<table border=\"1\" class=\"dataframe\">\n",
       "  <thead>\n",
       "    <tr style=\"text-align: right;\">\n",
       "      <th></th>\n",
       "      <th>Headline</th>\n",
       "      <th>Body ID</th>\n",
       "      <th>Stance</th>\n",
       "      <th>articleBody</th>\n",
       "      <th>Unnamed: 0</th>\n",
       "      <th>claimHeadline</th>\n",
       "      <th>articleHeadline</th>\n",
       "      <th>articleHeadlineStance</th>\n",
       "      <th>articleId</th>\n",
       "      <th>claimId</th>\n",
       "    </tr>\n",
       "  </thead>\n",
       "  <tbody>\n",
       "    <tr>\n",
       "      <th>2</th>\n",
       "      <td>Mexico police find mass grave near site 43 stu...</td>\n",
       "      <td>712</td>\n",
       "      <td>unrelated</td>\n",
       "      <td>Danny Boyle is directing the untitled film\\r\\n...</td>\n",
       "      <td>1663.0</td>\n",
       "      <td>Mass grave found in Mexico holds bodies of mis...</td>\n",
       "      <td>Mexico police find mass grave near site 43 stu...</td>\n",
       "      <td>observing</td>\n",
       "      <td>8a5f1540-4cbb-11e4-949b-f14041b20838</td>\n",
       "      <td>39506bb0-4cb9-11e4-949b-f14041b20838</td>\n",
       "    </tr>\n",
       "    <tr>\n",
       "      <th>3</th>\n",
       "      <td>Mexico Says Missing Students Not Found In Firs...</td>\n",
       "      <td>712</td>\n",
       "      <td>unrelated</td>\n",
       "      <td>Danny Boyle is directing the untitled film\\r\\n...</td>\n",
       "      <td>1656.0</td>\n",
       "      <td>Mass grave found in Mexico holds bodies of mis...</td>\n",
       "      <td>Mexico Says Missing Students Not Found In Firs...</td>\n",
       "      <td>against</td>\n",
       "      <td>cb10abf0-708b-11e4-8e10-b9c720c188ba</td>\n",
       "      <td>39506bb0-4cb9-11e4-949b-f14041b20838</td>\n",
       "    </tr>\n",
       "    <tr>\n",
       "      <th>4</th>\n",
       "      <td>New iOS 8 bug can delete all of your iCloud do...</td>\n",
       "      <td>712</td>\n",
       "      <td>unrelated</td>\n",
       "      <td>Danny Boyle is directing the untitled film\\r\\n...</td>\n",
       "      <td>1014.0</td>\n",
       "      <td>Reset All Settings option in iOS 8 deletes iWo...</td>\n",
       "      <td>New iOS 8 bug can delete all of your iCloud do...</td>\n",
       "      <td>for</td>\n",
       "      <td>ac736320-48d3-11e4-9960-a165dd517bbb</td>\n",
       "      <td>d049ff80-48d2-11e4-9960-a165dd517bbb</td>\n",
       "    </tr>\n",
       "    <tr>\n",
       "      <th>5</th>\n",
       "      <td>Return of the Mac: Seth Rogen in talks to star...</td>\n",
       "      <td>712</td>\n",
       "      <td>discuss</td>\n",
       "      <td>Danny Boyle is directing the untitled film\\r\\n...</td>\n",
       "      <td>2121.0</td>\n",
       "      <td>Seth Rogen will play Steve Wozniak in a film a...</td>\n",
       "      <td>Return of the Mac: Seth Rogen in talks to star...</td>\n",
       "      <td>observing</td>\n",
       "      <td>8df39250-6122-11e4-b6e9-e5f029e25965</td>\n",
       "      <td>cf3a83c0-611a-11e4-b6e9-e5f029e25965</td>\n",
       "    </tr>\n",
       "    <tr>\n",
       "      <th>6</th>\n",
       "      <td>Seth Rogen Is Woz</td>\n",
       "      <td>712</td>\n",
       "      <td>discuss</td>\n",
       "      <td>Danny Boyle is directing the untitled film\\r\\n...</td>\n",
       "      <td>2115.0</td>\n",
       "      <td>Seth Rogen will play Steve Wozniak in a film a...</td>\n",
       "      <td>Seth Rogen Is Woz</td>\n",
       "      <td>for</td>\n",
       "      <td>3eb7c640-611b-11e4-b6e9-e5f029e25965</td>\n",
       "      <td>cf3a83c0-611a-11e4-b6e9-e5f029e25965</td>\n",
       "    </tr>\n",
       "  </tbody>\n",
       "</table>\n",
       "</div>"
      ],
      "text/plain": [
       "                                            Headline  Body ID     Stance  \\\n",
       "2  Mexico police find mass grave near site 43 stu...      712  unrelated   \n",
       "3  Mexico Says Missing Students Not Found In Firs...      712  unrelated   \n",
       "4  New iOS 8 bug can delete all of your iCloud do...      712  unrelated   \n",
       "5  Return of the Mac: Seth Rogen in talks to star...      712    discuss   \n",
       "6                                  Seth Rogen Is Woz      712    discuss   \n",
       "\n",
       "                                         articleBody  Unnamed: 0  \\\n",
       "2  Danny Boyle is directing the untitled film\\r\\n...      1663.0   \n",
       "3  Danny Boyle is directing the untitled film\\r\\n...      1656.0   \n",
       "4  Danny Boyle is directing the untitled film\\r\\n...      1014.0   \n",
       "5  Danny Boyle is directing the untitled film\\r\\n...      2121.0   \n",
       "6  Danny Boyle is directing the untitled film\\r\\n...      2115.0   \n",
       "\n",
       "                                       claimHeadline  \\\n",
       "2  Mass grave found in Mexico holds bodies of mis...   \n",
       "3  Mass grave found in Mexico holds bodies of mis...   \n",
       "4  Reset All Settings option in iOS 8 deletes iWo...   \n",
       "5  Seth Rogen will play Steve Wozniak in a film a...   \n",
       "6  Seth Rogen will play Steve Wozniak in a film a...   \n",
       "\n",
       "                                     articleHeadline articleHeadlineStance  \\\n",
       "2  Mexico police find mass grave near site 43 stu...             observing   \n",
       "3  Mexico Says Missing Students Not Found In Firs...               against   \n",
       "4  New iOS 8 bug can delete all of your iCloud do...                   for   \n",
       "5  Return of the Mac: Seth Rogen in talks to star...             observing   \n",
       "6                                  Seth Rogen Is Woz                   for   \n",
       "\n",
       "                              articleId                               claimId  \n",
       "2  8a5f1540-4cbb-11e4-949b-f14041b20838  39506bb0-4cb9-11e4-949b-f14041b20838  \n",
       "3  cb10abf0-708b-11e4-8e10-b9c720c188ba  39506bb0-4cb9-11e4-949b-f14041b20838  \n",
       "4  ac736320-48d3-11e4-9960-a165dd517bbb  d049ff80-48d2-11e4-9960-a165dd517bbb  \n",
       "5  8df39250-6122-11e4-b6e9-e5f029e25965  cf3a83c0-611a-11e4-b6e9-e5f029e25965  \n",
       "6  3eb7c640-611b-11e4-b6e9-e5f029e25965  cf3a83c0-611a-11e4-b6e9-e5f029e25965  "
      ]
     },
     "execution_count": 61,
     "metadata": {},
     "output_type": "execute_result"
    }
   ],
   "source": [
    "merged_res.head()"
   ]
  },
  {
   "cell_type": "code",
   "execution_count": 62,
   "metadata": {
    "collapsed": true
   },
   "outputs": [],
   "source": [
    "final_res = pd.DataFrame()"
   ]
  },
  {
   "cell_type": "code",
   "execution_count": 63,
   "metadata": {
    "collapsed": true
   },
   "outputs": [],
   "source": [
    "final_res['claimId'] = merged_res['claimId']"
   ]
  },
  {
   "cell_type": "code",
   "execution_count": 64,
   "metadata": {
    "collapsed": true
   },
   "outputs": [],
   "source": [
    "final_res['claimHeadline'] = merged_res['claimHeadline']"
   ]
  },
  {
   "cell_type": "code",
   "execution_count": 65,
   "metadata": {
    "collapsed": true
   },
   "outputs": [],
   "source": [
    "final_res['trueStance'] = merged_res['Stance']"
   ]
  },
  {
   "cell_type": "code",
   "execution_count": 66,
   "metadata": {},
   "outputs": [
    {
     "name": "stdout",
     "output_type": "stream",
     "text": [
      "<class 'pandas.core.frame.DataFrame'>\n",
      "Int64Index: 22882 entries, 2 to 50795\n",
      "Data columns (total 3 columns):\n",
      "claimId          22882 non-null object\n",
      "claimHeadline    22882 non-null object\n",
      "trueStance       22882 non-null object\n",
      "dtypes: object(3)\n",
      "memory usage: 715.1+ KB\n"
     ]
    }
   ],
   "source": [
    "final_res.info()"
   ]
  },
  {
   "cell_type": "code",
   "execution_count": 67,
   "metadata": {
    "collapsed": true
   },
   "outputs": [],
   "source": [
    "df_source = pd.DataFrame()"
   ]
  },
  {
   "cell_type": "code",
   "execution_count": 68,
   "metadata": {
    "collapsed": true
   },
   "outputs": [],
   "source": [
    "df_source['articleId'] = merged_res['articleId']\n",
    "df_source['articleHeadlineStance'] = merged_res['articleHeadlineStance']"
   ]
  },
  {
   "cell_type": "code",
   "execution_count": 69,
   "metadata": {},
   "outputs": [],
   "source": [
    "df_source = df_source.drop_duplicates(subset='articleId')"
   ]
  },
  {
   "cell_type": "code",
   "execution_count": 71,
   "metadata": {},
   "outputs": [],
   "source": [
    "df_source = df_source.set_index('articleId').rename_axis(None).T"
   ]
  },
  {
   "cell_type": "code",
   "execution_count": 72,
   "metadata": {},
   "outputs": [
    {
     "data": {
      "text/html": [
       "<div>\n",
       "<style scoped>\n",
       "    .dataframe tbody tr th:only-of-type {\n",
       "        vertical-align: middle;\n",
       "    }\n",
       "\n",
       "    .dataframe tbody tr th {\n",
       "        vertical-align: top;\n",
       "    }\n",
       "\n",
       "    .dataframe thead th {\n",
       "        text-align: right;\n",
       "    }\n",
       "</style>\n",
       "<table border=\"1\" class=\"dataframe\">\n",
       "  <thead>\n",
       "    <tr style=\"text-align: right;\">\n",
       "      <th></th>\n",
       "      <th>8a5f1540-4cbb-11e4-949b-f14041b20838</th>\n",
       "      <th>cb10abf0-708b-11e4-8e10-b9c720c188ba</th>\n",
       "      <th>ac736320-48d3-11e4-9960-a165dd517bbb</th>\n",
       "      <th>8df39250-6122-11e4-b6e9-e5f029e25965</th>\n",
       "      <th>3eb7c640-611b-11e4-b6e9-e5f029e25965</th>\n",
       "      <th>11b1f4f0-50b7-11e4-b6a0-9705a8f94440</th>\n",
       "      <th>44e303c0-4dc2-11e4-949b-f14041b20838</th>\n",
       "      <th>d9a50340-708c-11e4-8e10-b9c720c188ba</th>\n",
       "      <th>1727c350-70de-11e4-8e10-b9c720c188ba</th>\n",
       "      <th>5f0ea250-70df-11e4-8e10-b9c720c188ba</th>\n",
       "      <th>...</th>\n",
       "      <th>10b7a580-c36d-11e4-9435-a96703525a9e</th>\n",
       "      <th>0dee9a70-c36d-11e4-9435-a96703525a9e</th>\n",
       "      <th>c1ee7c70-9ffa-11e4-a353-5b831fe927be</th>\n",
       "      <th>53faf1e0-a5c6-11e4-aa4f-ff16e52e0d56</th>\n",
       "      <th>26c0c500-a5c7-11e4-aa4f-ff16e52e0d56</th>\n",
       "      <th>116a3920-c41c-11e4-883c-a7fa7a3c5066</th>\n",
       "      <th>7c5eada0-c468-11e4-883c-a7fa7a3c5066</th>\n",
       "      <th>00c5b820-c46b-11e4-883c-a7fa7a3c5066</th>\n",
       "      <th>0e7e6910-c346-11e4-8747-5b024dd6dd6c</th>\n",
       "      <th>c4f1b000-c349-11e4-8747-5b024dd6dd6c</th>\n",
       "    </tr>\n",
       "  </thead>\n",
       "  <tbody>\n",
       "    <tr>\n",
       "      <th>articleHeadlineStance</th>\n",
       "      <td>observing</td>\n",
       "      <td>against</td>\n",
       "      <td>for</td>\n",
       "      <td>observing</td>\n",
       "      <td>for</td>\n",
       "      <td>observing</td>\n",
       "      <td>observing</td>\n",
       "      <td>against</td>\n",
       "      <td>observing</td>\n",
       "      <td>observing</td>\n",
       "      <td>...</td>\n",
       "      <td>for</td>\n",
       "      <td>for</td>\n",
       "      <td>for</td>\n",
       "      <td>for</td>\n",
       "      <td>for</td>\n",
       "      <td>observing</td>\n",
       "      <td>for</td>\n",
       "      <td>for</td>\n",
       "      <td>observing</td>\n",
       "      <td>for</td>\n",
       "    </tr>\n",
       "  </tbody>\n",
       "</table>\n",
       "<p>1 rows × 735 columns</p>\n",
       "</div>"
      ],
      "text/plain": [
       "                      8a5f1540-4cbb-11e4-949b-f14041b20838  \\\n",
       "articleHeadlineStance                            observing   \n",
       "\n",
       "                      cb10abf0-708b-11e4-8e10-b9c720c188ba  \\\n",
       "articleHeadlineStance                              against   \n",
       "\n",
       "                      ac736320-48d3-11e4-9960-a165dd517bbb  \\\n",
       "articleHeadlineStance                                  for   \n",
       "\n",
       "                      8df39250-6122-11e4-b6e9-e5f029e25965  \\\n",
       "articleHeadlineStance                            observing   \n",
       "\n",
       "                      3eb7c640-611b-11e4-b6e9-e5f029e25965  \\\n",
       "articleHeadlineStance                                  for   \n",
       "\n",
       "                      11b1f4f0-50b7-11e4-b6a0-9705a8f94440  \\\n",
       "articleHeadlineStance                            observing   \n",
       "\n",
       "                      44e303c0-4dc2-11e4-949b-f14041b20838  \\\n",
       "articleHeadlineStance                            observing   \n",
       "\n",
       "                      d9a50340-708c-11e4-8e10-b9c720c188ba  \\\n",
       "articleHeadlineStance                              against   \n",
       "\n",
       "                      1727c350-70de-11e4-8e10-b9c720c188ba  \\\n",
       "articleHeadlineStance                            observing   \n",
       "\n",
       "                      5f0ea250-70df-11e4-8e10-b9c720c188ba  \\\n",
       "articleHeadlineStance                            observing   \n",
       "\n",
       "                                      ...                   \\\n",
       "articleHeadlineStance                 ...                    \n",
       "\n",
       "                      10b7a580-c36d-11e4-9435-a96703525a9e  \\\n",
       "articleHeadlineStance                                  for   \n",
       "\n",
       "                      0dee9a70-c36d-11e4-9435-a96703525a9e  \\\n",
       "articleHeadlineStance                                  for   \n",
       "\n",
       "                      c1ee7c70-9ffa-11e4-a353-5b831fe927be  \\\n",
       "articleHeadlineStance                                  for   \n",
       "\n",
       "                      53faf1e0-a5c6-11e4-aa4f-ff16e52e0d56  \\\n",
       "articleHeadlineStance                                  for   \n",
       "\n",
       "                      26c0c500-a5c7-11e4-aa4f-ff16e52e0d56  \\\n",
       "articleHeadlineStance                                  for   \n",
       "\n",
       "                      116a3920-c41c-11e4-883c-a7fa7a3c5066  \\\n",
       "articleHeadlineStance                            observing   \n",
       "\n",
       "                      7c5eada0-c468-11e4-883c-a7fa7a3c5066  \\\n",
       "articleHeadlineStance                                  for   \n",
       "\n",
       "                      00c5b820-c46b-11e4-883c-a7fa7a3c5066  \\\n",
       "articleHeadlineStance                                  for   \n",
       "\n",
       "                      0e7e6910-c346-11e4-8747-5b024dd6dd6c  \\\n",
       "articleHeadlineStance                            observing   \n",
       "\n",
       "                      c4f1b000-c349-11e4-8747-5b024dd6dd6c  \n",
       "articleHeadlineStance                                  for  \n",
       "\n",
       "[1 rows x 735 columns]"
      ]
     },
     "execution_count": 72,
     "metadata": {},
     "output_type": "execute_result"
    }
   ],
   "source": [
    "df_source"
   ]
  },
  {
   "cell_type": "code",
   "execution_count": 74,
   "metadata": {},
   "outputs": [
    {
     "data": {
      "text/plain": [
       "array(['observing'], dtype=object)"
      ]
     },
     "execution_count": 74,
     "metadata": {},
     "output_type": "execute_result"
    }
   ],
   "source": [
    "df_source['8a5f1540-4cbb-11e4-949b-f14041b20838'].values"
   ]
  },
  {
   "cell_type": "code",
   "execution_count": null,
   "metadata": {
    "collapsed": true
   },
   "outputs": [],
   "source": []
  }
 ],
 "metadata": {
  "kernelspec": {
   "display_name": "Python 3",
   "language": "python",
   "name": "python3"
  },
  "language_info": {
   "codemirror_mode": {
    "name": "ipython",
    "version": 3
   },
   "file_extension": ".py",
   "mimetype": "text/x-python",
   "name": "python",
   "nbconvert_exporter": "python",
   "pygments_lexer": "ipython3",
   "version": "3.6.5"
  }
 },
 "nbformat": 4,
 "nbformat_minor": 2
}
